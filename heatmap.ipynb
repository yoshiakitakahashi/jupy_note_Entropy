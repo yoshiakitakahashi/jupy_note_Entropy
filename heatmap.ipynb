{
 "cells": [
  {
   "cell_type": "markdown",
   "metadata": {},
   "source": [
    "##初回処理\n",
    "ファイル読み込み、不要列削除、ファイルマージ\n"
   ]
  },
  {
   "cell_type": "code",
   "execution_count": 4,
   "metadata": {},
   "outputs": [
    {
     "name": "stdout",
     "output_type": "stream",
     "text": [
      "                     TELE_RU_T  TELE_LD_T  TELE_RU-LD_T\n",
      "DATETIME                                               \n",
      "2018-06-01 08:39:00        NaN        0.4           NaN\n",
      "2018-06-01 08:39:48        0.4        NaN           0.4\n",
      "2018-06-01 08:48:41        1.7        1.7           1.7\n",
      "2018-06-01 08:50:08        5.4        5.4           5.4\n",
      "2018-06-01 08:57:20        4.7        4.7           4.7\n",
      "...                        ...        ...           ...\n",
      "2021-06-24 14:34:10        1.5        1.5           1.5\n",
      "2021-06-24 15:52:01        1.5        1.5           1.5\n",
      "2021-06-24 15:57:48        4.7        4.7           4.7\n",
      "2021-06-24 16:02:50        0.4        0.4           0.4\n",
      "2021-06-24 16:52:27        2.1        2.1           2.1\n",
      "\n",
      "[38275 rows x 3 columns]\n"
     ]
    }
   ],
   "source": [
    "import os\n",
    "import numpy as np\n",
    "import pandas as pd\n",
    "%matplotlib inline\n",
    "import matplotlib.pyplot as plt\n",
    "import seaborn as sns\n",
    "import plotly.offline\n",
    "import plotly.express as px\n",
    "import plotly.subplots\n",
    "import squarify\n",
    "from pandas import DataFrame as df\n",
    "#Ent=pd.read_csv(\"Res_TTest_VX9145_TELE_RU-LD.csv\",index_col='DATETIME',parse_dates=True)\n",
    "faile_path='/home/yoshiaki/anaconda3/work/data/VX_9145_heatmap/'\n",
    "faile_names=os.listdir(path=faile_path)\n",
    "faile_names_df=pd.DataFrame(faile_names,columns=[\"name\"])\n",
    "faile_names_list=faile_names_df[\"name\"]\n",
    "#print(faile_names_list)\n",
    "\n",
    "\n",
    "for i in range(3):\n",
    "    faile_names_list[i]=pd.read_csv(faile_path+faile_names_list[i],index_col='DATETIME',parse_dates=True )\n",
    "    #print(faile_names_list[i])\n",
    "#print(faile_names_list[0])\n",
    "    faile_names_list[i]=faile_names_list[i].drop(['FNO','KLD_Value'],axis=1)\n",
    "    #print(faile_names_list[i])\n",
    "faile_merge_df=faile_names_list[0]  \n",
    "for i in range(1,3):\n",
    "    faile_merge_df=pd.merge(faile_merge_df,faile_names_list[i], how=\"outer\", on='DATETIME',sort='DATETIME')\n",
    "#print(faile_names_list[0]) \n",
    "print(faile_merge_df)   \n"
   ]
  },
  {
   "cell_type": "code",
   "execution_count": 3,
   "metadata": {},
   "outputs": [
    {
     "ename": "SyntaxError",
     "evalue": "invalid syntax (<ipython-input-3-958a6d51424b>, line 19)",
     "output_type": "error",
     "traceback": [
      "\u001b[0;36m  File \u001b[0;32m\"<ipython-input-3-958a6d51424b>\"\u001b[0;36m, line \u001b[0;32m19\u001b[0m\n\u001b[0;31m    import pandas as pdprint(marge)\u001b[0m\n\u001b[0m                            ^\u001b[0m\n\u001b[0;31mSyntaxError\u001b[0m\u001b[0;31m:\u001b[0m invalid syntax\n"
     ]
    }
   ],
   "source": [
    "import numpy as np\n",
    "import pandas as pd\n",
    "\n",
    "attri_data1 = {'ID':['100','101','102','105','106']\n",
    "        ,'city':['Tokyo','Chiba','Kyoto','Gunma','Tokyo']\n",
    "        ,'birth_year':[1991,1992,1985,1996,1981]\n",
    "        ,'name':['Yamada','Sato','Suzuki','Kitamura','Aoki']}\n",
    "data_frame1 = pd.DataFrame(attri_data1)\n",
    "\n",
    "# データ2の準備\n",
    "attri_data2 = {'ID':['100','101','102','103','104']\n",
    "        ,'math':[34,77,45,81,98]\n",
    "        ,'English':[47,64,16,53,37]\n",
    "        ,'sex':['F','M','F','F','M']\n",
    "        ,'index_num':[0,1,2,3,4]}\n",
    "data_frame2 = pd.DataFrame(attri_data2)\n",
    "marge=pd.merge(data_frame1, data_frame2, how=\"outer\", on='ID',sort='ID')\n",
    "import numpy as np\n",
    "import pandas as pdprint(marge)"
   ]
  },
  {
   "cell_type": "markdown",
   "metadata": {},
   "source": [
    "##実験用"
   ]
  },
  {
   "cell_type": "code",
   "execution_count": 30,
   "metadata": {},
   "outputs": [
    {
     "name": "stdout",
     "output_type": "stream",
     "text": [
      "test           ID  value_1\n",
      "0  2021-01-01        1\n",
      "1  2021-01-02        2\n",
      "2  2021-01-03        3\n",
      "3  2021-01-04        4\n",
      "4  2021-01-05        5\n"
     ]
    },
    {
     "ename": "NameError",
     "evalue": "name 'temp_1' is not defined",
     "output_type": "error",
     "traceback": [
      "\u001b[0;31m---------------------------------------------------------------------------\u001b[0m",
      "\u001b[0;31mNameError\u001b[0m                                 Traceback (most recent call last)",
      "\u001b[0;32m<ipython-input-30-94c5f6773478>\u001b[0m in \u001b[0;36m<module>\u001b[0;34m\u001b[0m\n\u001b[1;32m     13\u001b[0m \u001b[0;34m\u001b[0m\u001b[0m\n\u001b[1;32m     14\u001b[0m \u001b[0mprint\u001b[0m\u001b[0;34m(\u001b[0m\u001b[0;34m'test{0}'\u001b[0m\u001b[0;34m.\u001b[0m\u001b[0mformat\u001b[0m\u001b[0;34m(\u001b[0m\u001b[0mtest\u001b[0m\u001b[0;34m)\u001b[0m\u001b[0;34m)\u001b[0m\u001b[0;34m\u001b[0m\u001b[0;34m\u001b[0m\u001b[0m\n\u001b[0;32m---> 15\u001b[0;31m \u001b[0mprint\u001b[0m\u001b[0;34m(\u001b[0m\u001b[0;34m'temp_1={0}'\u001b[0m\u001b[0;34m.\u001b[0m\u001b[0mformat\u001b[0m\u001b[0;34m(\u001b[0m\u001b[0mtemp_1\u001b[0m\u001b[0;34m)\u001b[0m\u001b[0;34m)\u001b[0m\u001b[0;34m\u001b[0m\u001b[0;34m\u001b[0m\u001b[0m\n\u001b[0m",
      "\u001b[0;31mNameError\u001b[0m: name 'temp_1' is not defined"
     ]
    }
   ],
   "source": [
    "import numpy as np\n",
    "import pandas as pd\n",
    "\n",
    "test={'ID':['2021-01-01','2021-01-02','2021-01-03','2021-01-04','2021-01-05'],\n",
    "                  'value_1':[1,2,3,4,5]}\n",
    "test=pd.DataFrame(test)\n",
    "#print(test['value_1'])\n",
    "#print(test)\n",
    "for i in range(3):\n",
    "    if i>0:\n",
    "        temp_i=test['value_1']*i\n",
    "#        print(temp_i)\n",
    "    \n",
    "print('test{0}'.format(test)) \n",
    "print('temp_1={0}'.format(temp_1))"
   ]
  },
  {
   "cell_type": "code",
   "execution_count": 5,
   "metadata": {
    "scrolled": true
   },
   "outputs": [
    {
     "name": "stdout",
     "output_type": "stream",
     "text": [
      "a\n"
     ]
    }
   ],
   "source": [
    "import pandas as pd\n",
    "import numpy as np\n",
    "\n",
    "f_names = {'names':('a','b','c')}\n",
    "faile_names=pd.DataFrame(f_names)\n",
    "faile_names_list = faile_names['names']\n",
    "print(faile_names_list[0])"
   ]
  },
  {
   "cell_type": "code",
   "execution_count": 19,
   "metadata": {},
   "outputs": [
    {
     "name": "stdout",
     "output_type": "stream",
     "text": [
      "3\n"
     ]
    }
   ],
   "source": [
    "DIR = '/home/yoshiaki/anaconda3/work/data/VX_9145_heatmap/'\n",
    "print(sum(os.path.isfile(os.path.join(faile_path, name)) for name in os.listdir(DIR)))"
   ]
  },
  {
   "cell_type": "code",
   "execution_count": 20,
   "metadata": {},
   "outputs": [
    {
     "ename": "NameError",
     "evalue": "name 'Ent_1' is not defined",
     "output_type": "error",
     "traceback": [
      "\u001b[0;31m---------------------------------------------------------------------------\u001b[0m",
      "\u001b[0;31mNameError\u001b[0m                                 Traceback (most recent call last)",
      "\u001b[0;32m<ipython-input-20-7ac0d25e7307>\u001b[0m in \u001b[0;36m<module>\u001b[0;34m\u001b[0m\n\u001b[0;32m----> 1\u001b[0;31m \u001b[0mEnt_2\u001b[0m\u001b[0;34m=\u001b[0m\u001b[0mEnt_1\u001b[0m\u001b[0;34m.\u001b[0m\u001b[0mT\u001b[0m\u001b[0;34m\u001b[0m\u001b[0;34m\u001b[0m\u001b[0m\n\u001b[0m\u001b[1;32m      2\u001b[0m \u001b[0mpd\u001b[0m\u001b[0;34m.\u001b[0m\u001b[0moptions\u001b[0m\u001b[0;34m.\u001b[0m\u001b[0mdisplay\u001b[0m\u001b[0;34m.\u001b[0m\u001b[0mprecision\u001b[0m \u001b[0;34m=\u001b[0m \u001b[0;36m3\u001b[0m\u001b[0;34m\u001b[0m\u001b[0;34m\u001b[0m\u001b[0m\n\u001b[1;32m      3\u001b[0m \u001b[0mprint\u001b[0m\u001b[0;34m(\u001b[0m\u001b[0mEnt_2\u001b[0m\u001b[0;34m)\u001b[0m\u001b[0;34m\u001b[0m\u001b[0;34m\u001b[0m\u001b[0m\n",
      "\u001b[0;31mNameError\u001b[0m: name 'Ent_1' is not defined"
     ]
    }
   ],
   "source": [
    "Ent_2=Ent_1.T\n",
    "pd.options.display.precision = 3\n",
    "print(Ent_2)"
   ]
  },
  {
   "cell_type": "code",
   "execution_count": 6,
   "metadata": {},
   "outputs": [
    {
     "data": {
      "text/plain": [
       "Text(0, 0, 'color=red')"
      ]
     },
     "execution_count": 6,
     "metadata": {},
     "output_type": "execute_result"
    },
    {
     "data": {
      "image/png": "[encoded data removed]",
      "text/plain": [
       "<Figure size 432x288 with 2 Axes>"
      ]
     },
     "metadata": {},
     "output_type": "display_data"
    }
   ],
   "source": [
    "sns.set_style('whitegrid',rc=None)\n",
    "\n",
    "ax=sns.heatmap(Ent_2)\n",
    "ax.text(0,0,'color=red',color='white')"
   ]
  },
  {
   "cell_type": "code",
   "execution_count": null,
   "metadata": {},
   "outputs": [],
   "source": []
  }
 ],
 "metadata": {
  "kernelspec": {
   "display_name": "Python 3",
   "language": "python",
   "name": "python3"
  },
  "language_info": {
   "codemirror_mode": {
    "name": "ipython",
    "version": 3
   },
   "file_extension": ".py",
   "mimetype": "text/x-python",
   "name": "python",
   "nbconvert_exporter": "python",
   "pygments_lexer": "ipython3",
   "version": "3.8.10"
  },
  "toc": {
   "base_numbering": 1,
   "nav_menu": {},
   "number_sections": true,
   "sideBar": true,
   "skip_h1_title": false,
   "title_cell": "Table of Contents",
   "title_sidebar": "Contents",
   "toc_cell": false,
   "toc_position": {},
   "toc_section_display": true,
   "toc_window_display": false
  },
  "varInspector": {
   "cols": {
    "lenName": 16,
    "lenType": 16,
    "lenVar": 40
   },
   "kernels_config": {
    "python": {
     "delete_cmd_postfix": "",
     "delete_cmd_prefix": "del ",
     "library": "var_list.py",
     "varRefreshCmd": "print(var_dic_list())"
    },
    "r": {
     "delete_cmd_postfix": ") ",
     "delete_cmd_prefix": "rm(",
     "library": "var_list.r",
     "varRefreshCmd": "cat(var_dic_list()) "
    }
   },
   "types_to_exclude": [
    "module",
    "function",
    "builtin_function_or_method",
    "instance",
    "_Feature"
   ],
   "window_display": false
  }
 },
 "nbformat": 4,
 "nbformat_minor": 4
}
