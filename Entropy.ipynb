{
 "cells": [
  {
   "cell_type": "code",
   "execution_count": 1,
   "metadata": {},
   "outputs": [
    {
     "data": {
      "text/html": [
       "<div>\n",
       "<style scoped>\n",
       "    .dataframe tbody tr th:only-of-type {\n",
       "        vertical-align: middle;\n",
       "    }\n",
       "\n",
       "    .dataframe tbody tr th {\n",
       "        vertical-align: top;\n",
       "    }\n",
       "\n",
       "    .dataframe thead th {\n",
       "        text-align: right;\n",
       "    }\n",
       "</style>\n",
       "<table border=\"1\" class=\"dataframe\">\n",
       "  <thead>\n",
       "    <tr style=\"text-align: right;\">\n",
       "      <th></th>\n",
       "      <th>Junualy</th>\n",
       "      <th>Febrarry</th>\n",
       "      <th>may</th>\n",
       "      <th>April</th>\n",
       "      <th>May</th>\n",
       "      <th>_Juun</th>\n",
       "      <th>Julay</th>\n",
       "      <th>Orgast</th>\n",
       "      <th>Septenber</th>\n",
       "      <th>October</th>\n",
       "      <th>Novenber</th>\n",
       "      <th>Desenber</th>\n",
       "    </tr>\n",
       "    <tr>\n",
       "      <th>goods</th>\n",
       "      <th></th>\n",
       "      <th></th>\n",
       "      <th></th>\n",
       "      <th></th>\n",
       "      <th></th>\n",
       "      <th></th>\n",
       "      <th></th>\n",
       "      <th></th>\n",
       "      <th></th>\n",
       "      <th></th>\n",
       "      <th></th>\n",
       "      <th></th>\n",
       "    </tr>\n",
       "  </thead>\n",
       "  <tbody>\n",
       "    <tr>\n",
       "      <th>hot coffee</th>\n",
       "      <td>980</td>\n",
       "      <td>828</td>\n",
       "      <td>823</td>\n",
       "      <td>650</td>\n",
       "      <td>732</td>\n",
       "      <td>653</td>\n",
       "      <td>763</td>\n",
       "      <td>650</td>\n",
       "      <td>791</td>\n",
       "      <td>732</td>\n",
       "      <td>758</td>\n",
       "      <td>996</td>\n",
       "    </tr>\n",
       "    <tr>\n",
       "      <th>Ice coffee</th>\n",
       "      <td>314</td>\n",
       "      <td>269</td>\n",
       "      <td>419</td>\n",
       "      <td>596</td>\n",
       "      <td>669</td>\n",
       "      <td>672</td>\n",
       "      <td>840</td>\n",
       "      <td>944</td>\n",
       "      <td>903</td>\n",
       "      <td>555</td>\n",
       "      <td>865</td>\n",
       "      <td>318</td>\n",
       "    </tr>\n",
       "    <tr>\n",
       "      <th>hot tea</th>\n",
       "      <td>670</td>\n",
       "      <td>678</td>\n",
       "      <td>500</td>\n",
       "      <td>418</td>\n",
       "      <td>469</td>\n",
       "      <td>471</td>\n",
       "      <td>320</td>\n",
       "      <td>380</td>\n",
       "      <td>420</td>\n",
       "      <td>390</td>\n",
       "      <td>606</td>\n",
       "      <td>558</td>\n",
       "    </tr>\n",
       "    <tr>\n",
       "      <th>Icetea</th>\n",
       "      <td>280</td>\n",
       "      <td>320</td>\n",
       "      <td>430</td>\n",
       "      <td>450</td>\n",
       "      <td>550</td>\n",
       "      <td>580</td>\n",
       "      <td>628</td>\n",
       "      <td>734</td>\n",
       "      <td>494</td>\n",
       "      <td>304</td>\n",
       "      <td>473</td>\n",
       "      <td>280</td>\n",
       "    </tr>\n",
       "    <tr>\n",
       "      <th>cukkee</th>\n",
       "      <td>311</td>\n",
       "      <td>332</td>\n",
       "      <td>200</td>\n",
       "      <td>403</td>\n",
       "      <td>350</td>\n",
       "      <td>369</td>\n",
       "      <td>219</td>\n",
       "      <td>328</td>\n",
       "      <td>316</td>\n",
       "      <td>379</td>\n",
       "      <td>434</td>\n",
       "      <td>366</td>\n",
       "    </tr>\n",
       "    <tr>\n",
       "      <th>Icecream</th>\n",
       "      <td>150</td>\n",
       "      <td>128</td>\n",
       "      <td>200</td>\n",
       "      <td>284</td>\n",
       "      <td>319</td>\n",
       "      <td>320</td>\n",
       "      <td>650</td>\n",
       "      <td>559</td>\n",
       "      <td>500</td>\n",
       "      <td>265</td>\n",
       "      <td>412</td>\n",
       "      <td>152</td>\n",
       "    </tr>\n",
       "    <tr>\n",
       "      <th>Planedonatu</th>\n",
       "      <td>205</td>\n",
       "      <td>278</td>\n",
       "      <td>249</td>\n",
       "      <td>424</td>\n",
       "      <td>372</td>\n",
       "      <td>371</td>\n",
       "      <td>426</td>\n",
       "      <td>269</td>\n",
       "      <td>200</td>\n",
       "      <td>297</td>\n",
       "      <td>427</td>\n",
       "      <td>311</td>\n",
       "    </tr>\n",
       "    <tr>\n",
       "      <th>chocoDonatu</th>\n",
       "      <td>242</td>\n",
       "      <td>296</td>\n",
       "      <td>387</td>\n",
       "      <td>358</td>\n",
       "      <td>335</td>\n",
       "      <td>407</td>\n",
       "      <td>447</td>\n",
       "      <td>449</td>\n",
       "      <td>163</td>\n",
       "      <td>229</td>\n",
       "      <td>354</td>\n",
       "      <td>301</td>\n",
       "    </tr>\n",
       "    <tr>\n",
       "      <th>sandwicth</th>\n",
       "      <td>124</td>\n",
       "      <td>174</td>\n",
       "      <td>147</td>\n",
       "      <td>184</td>\n",
       "      <td>160</td>\n",
       "      <td>187</td>\n",
       "      <td>149</td>\n",
       "      <td>195</td>\n",
       "      <td>145</td>\n",
       "      <td>156</td>\n",
       "      <td>126</td>\n",
       "      <td>200</td>\n",
       "    </tr>\n",
       "  </tbody>\n",
       "</table>\n",
       "</div>"
      ],
      "text/plain": [
       "             Junualy  Febrarry  may  April  May  _Juun  Julay  Orgast  \\\n",
       "goods                                                                   \n",
       "hot coffee       980       828  823    650  732    653    763     650   \n",
       "Ice coffee       314       269  419    596  669    672    840     944   \n",
       "hot tea          670       678  500    418  469    471    320     380   \n",
       "Icetea           280       320  430    450  550    580    628     734   \n",
       "cukkee           311       332  200    403  350    369    219     328   \n",
       "Icecream         150       128  200    284  319    320    650     559   \n",
       "Planedonatu      205       278  249    424  372    371    426     269   \n",
       "chocoDonatu      242       296  387    358  335    407    447     449   \n",
       "sandwicth        124       174  147    184  160    187    149     195   \n",
       "\n",
       "             Septenber  October  Novenber  Desenber  \n",
       "goods                                                \n",
       "hot coffee         791      732       758       996  \n",
       "Ice coffee         903      555       865       318  \n",
       "hot tea            420      390       606       558  \n",
       "Icetea             494      304       473       280  \n",
       "cukkee             316      379       434       366  \n",
       "Icecream           500      265       412       152  \n",
       "Planedonatu        200      297       427       311  \n",
       "chocoDonatu        163      229       354       301  \n",
       "sandwicth          145      156       126       200  "
      ]
     },
     "execution_count": 1,
     "metadata": {},
     "output_type": "execute_result"
    }
   ],
   "source": [
    "import numpy as np\n",
    "import pandas as pd\n",
    "%matplotlib inline\n",
    "import matplotlib.pyplot as plt\n",
    "import seaborn as sns\n",
    "import plotly.offline\n",
    "import plotly.express as px\n",
    "import plotly.subplots\n",
    "import squarify\n",
    "cafe=pd.read_csv(\"cafe.csv\",header=0,index_col=0)\n",
    "cafe\n"
   ]
  },
  {
   "cell_type": "markdown",
   "metadata": {},
   "source": [
    "## title"
   ]
  },
  {
   "cell_type": "code",
   "execution_count": 3,
   "metadata": {},
   "outputs": [
    {
     "name": "stderr",
     "output_type": "stream",
     "text": [
      "findfont: Font family ['meiryou'] not found. Falling back to DejaVu Sans.\n"
     ]
    },
    {
     "data": {
      "text/plain": [
       "<AxesSubplot:ylabel='goods'>"
      ]
     },
     "execution_count": 3,
     "metadata": {},
     "output_type": "execute_result"
    },
    {
     "name": "stderr",
     "output_type": "stream",
     "text": [
      "findfont: Font family ['meiryou'] not found. Falling back to DejaVu Sans.\n"
     ]
    },
    {
     "data": {
      "image/png": "[encoded data removed]",
      "text/plain": [
       "<Figure size 432x288 with 2 Axes>"
      ]
     },
     "metadata": {},
     "output_type": "display_data"
    }
   ],
   "source": [
    "sns.set(font=\"meiryou\")\n",
    "sns.heatmap(cafe)"
   ]
  },
  {
   "cell_type": "code",
   "execution_count": null,
   "metadata": {},
   "outputs": [],
   "source": []
  }
 ],
 "metadata": {
  "kernelspec": {
   "display_name": "Python 3",
   "language": "python",
   "name": "python3"
  },
  "language_info": {
   "codemirror_mode": {
    "name": "ipython",
    "version": 3
   },
   "file_extension": ".py",
   "mimetype": "text/x-python",
   "name": "python",
   "nbconvert_exporter": "python",
   "pygments_lexer": "ipython3",
   "version": "3.8.5"
  },
  "toc": {
   "base_numbering": 1,
   "nav_menu": {},
   "number_sections": true,
   "sideBar": true,
   "skip_h1_title": false,
   "title_cell": "Table of Contents",
   "title_sidebar": "Contents",
   "toc_cell": false,
   "toc_position": {},
   "toc_section_display": true,
   "toc_window_display": true
  },
  "varInspector": {
   "cols": {
    "lenName": 16,
    "lenType": 16,
    "lenVar": 40
   },
   "kernels_config": {
    "python": {
     "delete_cmd_postfix": "",
     "delete_cmd_prefix": "del ",
     "library": "var_list.py",
     "varRefreshCmd": "print(var_dic_list())"
    },
    "r": {
     "delete_cmd_postfix": ") ",
     "delete_cmd_prefix": "rm(",
     "library": "var_list.r",
     "varRefreshCmd": "cat(var_dic_list()) "
    }
   },
   "types_to_exclude": [
    "module",
    "function",
    "builtin_function_or_method",
    "instance",
    "_Feature"
   ],
   "window_display": true
  }
 },
 "nbformat": 4,
 "nbformat_minor": 4
}
